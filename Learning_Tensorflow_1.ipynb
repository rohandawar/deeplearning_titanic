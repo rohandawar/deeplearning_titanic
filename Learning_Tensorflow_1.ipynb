{
  "nbformat": 4,
  "nbformat_minor": 0,
  "metadata": {
    "colab": {
      "name": "Learning Tensorflow #1.ipynb",
      "provenance": [],
      "authorship_tag": "ABX9TyNgVYpiB+jOmxkYcecS5qff",
      "include_colab_link": true
    },
    "kernelspec": {
      "name": "python3",
      "display_name": "Python 3"
    },
    "language_info": {
      "name": "python"
    }
  },
  "cells": [
    {
      "cell_type": "markdown",
      "metadata": {
        "id": "view-in-github",
        "colab_type": "text"
      },
      "source": [
        "<a href=\"https://colab.research.google.com/github/rohandawar/deeplearning_titanic/blob/main/Learning_Tensorflow_1.ipynb\" target=\"_parent\"><img src=\"https://colab.research.google.com/assets/colab-badge.svg\" alt=\"Open In Colab\"/></a>"
      ]
    },
    {
      "cell_type": "markdown",
      "metadata": {
        "id": "63Ln0fyBzAHn"
      },
      "source": [
        "# Learning Tensorflow\n",
        "Example #1"
      ]
    },
    {
      "cell_type": "code",
      "metadata": {
        "id": "n141yZ9azJOD"
      },
      "source": [
        "import numpy as np\n",
        "import pandas as pd\n",
        "import matplotlib.pyplot as plt\n",
        "import seaborn as sns\n",
        "import tensorflow as tf\n",
        "from tensorflow.keras import models,layers"
      ],
      "execution_count": 1,
      "outputs": []
    },
    {
      "cell_type": "code",
      "metadata": {
        "id": "b2d3qmMbzdoT"
      },
      "source": [
        "#fetching the data\n",
        "dftrain_raw = pd.read_csv('https://raw.githubusercontent.com/rohandawar/eat_tensorflow2_in_30_days/master/data/titanic/train.csv')\n",
        "dftest_raw = pd.read_csv('https://raw.githubusercontent.com/rohandawar/eat_tensorflow2_in_30_days/master/data/titanic/test.csv')"
      ],
      "execution_count": 2,
      "outputs": []
    },
    {
      "cell_type": "code",
      "metadata": {
        "colab": {
          "base_uri": "https://localhost:8080/",
          "height": 202
        },
        "id": "uTCxQpS1z_rg",
        "outputId": "00b14b37-844e-41c4-91eb-fff394f7fbd7"
      },
      "source": [
        "dftrain_raw.head()"
      ],
      "execution_count": 3,
      "outputs": [
        {
          "output_type": "execute_result",
          "data": {
            "text/html": [
              "<div>\n",
              "<style scoped>\n",
              "    .dataframe tbody tr th:only-of-type {\n",
              "        vertical-align: middle;\n",
              "    }\n",
              "\n",
              "    .dataframe tbody tr th {\n",
              "        vertical-align: top;\n",
              "    }\n",
              "\n",
              "    .dataframe thead th {\n",
              "        text-align: right;\n",
              "    }\n",
              "</style>\n",
              "<table border=\"1\" class=\"dataframe\">\n",
              "  <thead>\n",
              "    <tr style=\"text-align: right;\">\n",
              "      <th></th>\n",
              "      <th>PassengerId</th>\n",
              "      <th>Survived</th>\n",
              "      <th>Pclass</th>\n",
              "      <th>Name</th>\n",
              "      <th>Sex</th>\n",
              "      <th>Age</th>\n",
              "      <th>SibSp</th>\n",
              "      <th>Parch</th>\n",
              "      <th>Ticket</th>\n",
              "      <th>Fare</th>\n",
              "      <th>Cabin</th>\n",
              "      <th>Embarked</th>\n",
              "    </tr>\n",
              "  </thead>\n",
              "  <tbody>\n",
              "    <tr>\n",
              "      <th>0</th>\n",
              "      <td>493</td>\n",
              "      <td>0</td>\n",
              "      <td>1</td>\n",
              "      <td>Molson, Mr. Harry Markland</td>\n",
              "      <td>male</td>\n",
              "      <td>55.0</td>\n",
              "      <td>0</td>\n",
              "      <td>0</td>\n",
              "      <td>113787</td>\n",
              "      <td>30.5000</td>\n",
              "      <td>C30</td>\n",
              "      <td>S</td>\n",
              "    </tr>\n",
              "    <tr>\n",
              "      <th>1</th>\n",
              "      <td>53</td>\n",
              "      <td>1</td>\n",
              "      <td>1</td>\n",
              "      <td>Harper, Mrs. Henry Sleeper (Myna Haxtun)</td>\n",
              "      <td>female</td>\n",
              "      <td>49.0</td>\n",
              "      <td>1</td>\n",
              "      <td>0</td>\n",
              "      <td>PC 17572</td>\n",
              "      <td>76.7292</td>\n",
              "      <td>D33</td>\n",
              "      <td>C</td>\n",
              "    </tr>\n",
              "    <tr>\n",
              "      <th>2</th>\n",
              "      <td>388</td>\n",
              "      <td>1</td>\n",
              "      <td>2</td>\n",
              "      <td>Buss, Miss. Kate</td>\n",
              "      <td>female</td>\n",
              "      <td>36.0</td>\n",
              "      <td>0</td>\n",
              "      <td>0</td>\n",
              "      <td>27849</td>\n",
              "      <td>13.0000</td>\n",
              "      <td>NaN</td>\n",
              "      <td>S</td>\n",
              "    </tr>\n",
              "    <tr>\n",
              "      <th>3</th>\n",
              "      <td>192</td>\n",
              "      <td>0</td>\n",
              "      <td>2</td>\n",
              "      <td>Carbines, Mr. William</td>\n",
              "      <td>male</td>\n",
              "      <td>19.0</td>\n",
              "      <td>0</td>\n",
              "      <td>0</td>\n",
              "      <td>28424</td>\n",
              "      <td>13.0000</td>\n",
              "      <td>NaN</td>\n",
              "      <td>S</td>\n",
              "    </tr>\n",
              "    <tr>\n",
              "      <th>4</th>\n",
              "      <td>687</td>\n",
              "      <td>0</td>\n",
              "      <td>3</td>\n",
              "      <td>Panula, Mr. Jaako Arnold</td>\n",
              "      <td>male</td>\n",
              "      <td>14.0</td>\n",
              "      <td>4</td>\n",
              "      <td>1</td>\n",
              "      <td>3101295</td>\n",
              "      <td>39.6875</td>\n",
              "      <td>NaN</td>\n",
              "      <td>S</td>\n",
              "    </tr>\n",
              "  </tbody>\n",
              "</table>\n",
              "</div>"
            ],
            "text/plain": [
              "   PassengerId  Survived  Pclass  ...     Fare Cabin  Embarked\n",
              "0          493         0       1  ...  30.5000   C30         S\n",
              "1           53         1       1  ...  76.7292   D33         C\n",
              "2          388         1       2  ...  13.0000   NaN         S\n",
              "3          192         0       2  ...  13.0000   NaN         S\n",
              "4          687         0       3  ...  39.6875   NaN         S\n",
              "\n",
              "[5 rows x 12 columns]"
            ]
          },
          "metadata": {
            "tags": []
          },
          "execution_count": 3
        }
      ]
    },
    {
      "cell_type": "code",
      "metadata": {
        "colab": {
          "base_uri": "https://localhost:8080/",
          "height": 202
        },
        "id": "rWWo_xz60B3H",
        "outputId": "7c802ddb-0e28-45e7-e753-45bdb6f3941b"
      },
      "source": [
        "dftest_raw.head()"
      ],
      "execution_count": 4,
      "outputs": [
        {
          "output_type": "execute_result",
          "data": {
            "text/html": [
              "<div>\n",
              "<style scoped>\n",
              "    .dataframe tbody tr th:only-of-type {\n",
              "        vertical-align: middle;\n",
              "    }\n",
              "\n",
              "    .dataframe tbody tr th {\n",
              "        vertical-align: top;\n",
              "    }\n",
              "\n",
              "    .dataframe thead th {\n",
              "        text-align: right;\n",
              "    }\n",
              "</style>\n",
              "<table border=\"1\" class=\"dataframe\">\n",
              "  <thead>\n",
              "    <tr style=\"text-align: right;\">\n",
              "      <th></th>\n",
              "      <th>PassengerId</th>\n",
              "      <th>Survived</th>\n",
              "      <th>Pclass</th>\n",
              "      <th>Name</th>\n",
              "      <th>Sex</th>\n",
              "      <th>Age</th>\n",
              "      <th>SibSp</th>\n",
              "      <th>Parch</th>\n",
              "      <th>Ticket</th>\n",
              "      <th>Fare</th>\n",
              "      <th>Cabin</th>\n",
              "      <th>Embarked</th>\n",
              "    </tr>\n",
              "  </thead>\n",
              "  <tbody>\n",
              "    <tr>\n",
              "      <th>0</th>\n",
              "      <td>181</td>\n",
              "      <td>0</td>\n",
              "      <td>3</td>\n",
              "      <td>Sage, Miss. Constance Gladys</td>\n",
              "      <td>female</td>\n",
              "      <td>NaN</td>\n",
              "      <td>8</td>\n",
              "      <td>2</td>\n",
              "      <td>CA. 2343</td>\n",
              "      <td>69.5500</td>\n",
              "      <td>NaN</td>\n",
              "      <td>S</td>\n",
              "    </tr>\n",
              "    <tr>\n",
              "      <th>1</th>\n",
              "      <td>405</td>\n",
              "      <td>0</td>\n",
              "      <td>3</td>\n",
              "      <td>Oreskovic, Miss. Marija</td>\n",
              "      <td>female</td>\n",
              "      <td>20.00</td>\n",
              "      <td>0</td>\n",
              "      <td>0</td>\n",
              "      <td>315096</td>\n",
              "      <td>8.6625</td>\n",
              "      <td>NaN</td>\n",
              "      <td>S</td>\n",
              "    </tr>\n",
              "    <tr>\n",
              "      <th>2</th>\n",
              "      <td>635</td>\n",
              "      <td>0</td>\n",
              "      <td>3</td>\n",
              "      <td>Skoog, Miss. Mabel</td>\n",
              "      <td>female</td>\n",
              "      <td>9.00</td>\n",
              "      <td>3</td>\n",
              "      <td>2</td>\n",
              "      <td>347088</td>\n",
              "      <td>27.9000</td>\n",
              "      <td>NaN</td>\n",
              "      <td>S</td>\n",
              "    </tr>\n",
              "    <tr>\n",
              "      <th>3</th>\n",
              "      <td>701</td>\n",
              "      <td>1</td>\n",
              "      <td>1</td>\n",
              "      <td>Astor, Mrs. John Jacob (Madeleine Talmadge Force)</td>\n",
              "      <td>female</td>\n",
              "      <td>18.00</td>\n",
              "      <td>1</td>\n",
              "      <td>0</td>\n",
              "      <td>PC 17757</td>\n",
              "      <td>227.5250</td>\n",
              "      <td>C62 C64</td>\n",
              "      <td>C</td>\n",
              "    </tr>\n",
              "    <tr>\n",
              "      <th>4</th>\n",
              "      <td>470</td>\n",
              "      <td>1</td>\n",
              "      <td>3</td>\n",
              "      <td>Baclini, Miss. Helene Barbara</td>\n",
              "      <td>female</td>\n",
              "      <td>0.75</td>\n",
              "      <td>2</td>\n",
              "      <td>1</td>\n",
              "      <td>2666</td>\n",
              "      <td>19.2583</td>\n",
              "      <td>NaN</td>\n",
              "      <td>C</td>\n",
              "    </tr>\n",
              "  </tbody>\n",
              "</table>\n",
              "</div>"
            ],
            "text/plain": [
              "   PassengerId  Survived  Pclass  ...      Fare    Cabin  Embarked\n",
              "0          181         0       3  ...   69.5500      NaN         S\n",
              "1          405         0       3  ...    8.6625      NaN         S\n",
              "2          635         0       3  ...   27.9000      NaN         S\n",
              "3          701         1       1  ...  227.5250  C62 C64         C\n",
              "4          470         1       3  ...   19.2583      NaN         C\n",
              "\n",
              "[5 rows x 12 columns]"
            ]
          },
          "metadata": {
            "tags": []
          },
          "execution_count": 4
        }
      ]
    },
    {
      "cell_type": "markdown",
      "metadata": {
        "id": "jVRl9abc0MaE"
      },
      "source": [
        "Introduction of each field：\n",
        "\n",
        "* Survived: 0 for death and 1 for survived [y labels]\n",
        "* Pclass: Class of the tickets, with three possible values (1,2,3)[converting to one-hot encoding]\n",
        "* Name: Name of each passenger [discarded]\n",
        "* Sex: Gender of each passenger [converting to bool type]\n",
        "* Age: Age of each passenger (partly missing) [numerical feature, should add \"Whether age is missing\" as auxiliary feature]\n",
        "* SibSp: Number of siblings and spouse of each passenger (interger) [numerical feature]\n",
        "* Parch: Number of parents/children of each passenger (interger) [numerical feature]\n",
        "* Ticket: Ticket number (string) [discarded]\n",
        "* Fare: Ticket price of each passenger (float, between 0 to 500) [numerical feature]\n",
        "* Cabin: Cabin where each passenger is located (partly missing) [should add \"Whether cabin is missing\" as auxiliary feature]\n",
        "* Embarked: Which port was each passenger embarked, possible values are S、C、Q (partly missing) [converting to one-hot encoding, four dimensions, S,C,Q,nan]"
      ]
    },
    {
      "cell_type": "code",
      "metadata": {
        "colab": {
          "base_uri": "https://localhost:8080/",
          "height": 507
        },
        "id": "eYMLtvGj0IkL",
        "outputId": "326e10f6-7224-43ba-a742-5a67098011e7"
      },
      "source": [
        "#checking the distribution for the target variable\n",
        "ax = dftrain_raw['Survived'].value_counts().plot(kind = 'bar', \n",
        "                                                 figsize = (12,8), \n",
        "                                                 fontsize = 15, \n",
        "                                                 rot =0)\n",
        "ax.set_ylabel('Counts', fontsize = 15)\n",
        "ax.set_xlabel('Survived', fontsize = 15)\n",
        "plt.show()"
      ],
      "execution_count": 5,
      "outputs": [
        {
          "output_type": "display_data",
          "data": {
            "image/png": "[encoded data removed]",
            "text/plain": [
              "<Figure size 864x576 with 1 Axes>"
            ]
          },
          "metadata": {
            "tags": [],
            "needs_background": "light"
          }
        }
      ]
    },
    {
      "cell_type": "code",
      "metadata": {
        "colab": {
          "base_uri": "https://localhost:8080/",
          "height": 507
        },
        "id": "kiDn3Xag2EPK",
        "outputId": "dec1e26a-00b9-4774-f6ff-eb538c25de11"
      },
      "source": [
        "#Age Distribution\n",
        "ax = dftrain_raw['Age'].plot(kind = 'hist',\n",
        "                             bins = 20,\n",
        "                             color = 'purple',\n",
        "                             figsize = (12,8),\n",
        "                           fontsize =15)\n",
        "ax.set_ylabel('Frequency', fontsize = 15)\n",
        "ax.set_xlabel('Age', fontsize = 15)\n",
        "plt.show()"
      ],
      "execution_count": 6,
      "outputs": [
        {
          "output_type": "display_data",
          "data": {
            "image/png": "[encoded data removed]",
            "text/plain": [
              "<Figure size 864x576 with 1 Axes>"
            ]
          },
          "metadata": {
            "tags": [],
            "needs_background": "light"
          }
        }
      ]
    },
    {
      "cell_type": "code",
      "metadata": {
        "colab": {
          "base_uri": "https://localhost:8080/",
          "height": 507
        },
        "id": "MW8486gf5lLq",
        "outputId": "8b2aea24-09d1-4c03-a9fc-2214bc1a0277"
      },
      "source": [
        "#Co-relation between age & survival (find out why the age is negative)\n",
        "ax = dftrain_raw.query('Survived == 0')['Age'].plot(kind = 'density',\n",
        "                                                    figsize = (12,8),\n",
        "                                                    fontsize = 15)\n",
        "dftrain_raw.query('Survived == 1')['Age'].plot(kind = 'density',\n",
        "                                               figsize = (12,8),\n",
        "                                               fontsize = 15)\n",
        "ax.legend(['Survived == 0', 'Survived ==1'], fontsize = 12)\n",
        "ax.set_ylabel('Density', fontsize = 15)\n",
        "ax.set_xlabel('Age', fontsize = 15)\n",
        "plt.show()"
      ],
      "execution_count": 7,
      "outputs": [
        {
          "output_type": "display_data",
          "data": {
            "image/png": "[encoded data removed]",
            "text/plain": [
              "<Figure size 864x576 with 1 Axes>"
            ]
          },
          "metadata": {
            "tags": [],
            "needs_background": "light"
          }
        }
      ]
    },
    {
      "cell_type": "code",
      "metadata": {
        "id": "WaoFriLzBOe7"
      },
      "source": [
        "def data_investigation(df):\n",
        "  print('Number of Persons: ', df.shape[0])\n",
        "  print('Number of Variables: ', df.shape[1])\n",
        "  print('-'*20)\n",
        "  print('Dataset Columns: \\n')\n",
        "  print(df.columns)\n",
        "  print('-'*20)\n",
        "  print('Datatype of eack column: \\n')\n",
        "  print(df.dtypes)\n",
        "  print('-'*20)\n",
        "  print('Missing rows in each columns: \\n')\n",
        "  c = df.isnull().sum()\n",
        "  print(c[c>0])\n",
        "  print('-'*20)\n",
        "  print('Missing Value %age vise: \\n')\n",
        "  print(100*(df.isnull().sum()/len(df.index)))\n",
        "  print('-'*20)\n",
        "  print('Pictorial Representation of missing Values: ')\n",
        "  plt.figure(figsize=(8,6))\n",
        "  sns.heatmap(df.isnull(), yticklabels=False, cbar=False, cmap = 'viridis')\n",
        "  plt.show()\n",
        "\n"
      ],
      "execution_count": 8,
      "outputs": []
    },
    {
      "cell_type": "code",
      "metadata": {
        "id": "yx74_QQfBV24",
        "colab": {
          "base_uri": "https://localhost:8080/",
          "height": 1000
        },
        "outputId": "8d6982ff-7a82-425f-df31-3e4cb135dc2e"
      },
      "source": [
        "#Data investigation for Train\n",
        "data_investigation(dftrain_raw)"
      ],
      "execution_count": 9,
      "outputs": [
        {
          "output_type": "stream",
          "text": [
            "Number of Persons:  712\n",
            "Number of Variables:  12\n",
            "--------------------\n",
            "Dataset Columns: \n",
            "\n",
            "Index(['PassengerId', 'Survived', 'Pclass', 'Name', 'Sex', 'Age', 'SibSp',\n",
            "       'Parch', 'Ticket', 'Fare', 'Cabin', 'Embarked'],\n",
            "      dtype='object')\n",
            "--------------------\n",
            "Datatype of eack column: \n",
            "\n",
            "PassengerId      int64\n",
            "Survived         int64\n",
            "Pclass           int64\n",
            "Name            object\n",
            "Sex             object\n",
            "Age            float64\n",
            "SibSp            int64\n",
            "Parch            int64\n",
            "Ticket          object\n",
            "Fare           float64\n",
            "Cabin           object\n",
            "Embarked        object\n",
            "dtype: object\n",
            "--------------------\n",
            "Missing rows in each columns: \n",
            "\n",
            "Age         146\n",
            "Cabin       544\n",
            "Embarked      2\n",
            "dtype: int64\n",
            "--------------------\n",
            "Missing Value %age vise: \n",
            "\n",
            "PassengerId     0.000000\n",
            "Survived        0.000000\n",
            "Pclass          0.000000\n",
            "Name            0.000000\n",
            "Sex             0.000000\n",
            "Age            20.505618\n",
            "SibSp           0.000000\n",
            "Parch           0.000000\n",
            "Ticket          0.000000\n",
            "Fare            0.000000\n",
            "Cabin          76.404494\n",
            "Embarked        0.280899\n",
            "dtype: float64\n",
            "--------------------\n",
            "Pictorial Representation of missing Values: \n"
          ],
          "name": "stdout"
        },
        {
          "output_type": "display_data",
          "data": {
            "image/png": "[encoded data removed]",
            "text/plain": [
              "<Figure size 576x432 with 1 Axes>"
            ]
          },
          "metadata": {
            "tags": [],
            "needs_background": "light"
          }
        }
      ]
    },
    {
      "cell_type": "code",
      "metadata": {
        "id": "1lDSAViqBJS1",
        "colab": {
          "base_uri": "https://localhost:8080/",
          "height": 1000
        },
        "outputId": "183e1920-fbf5-431c-f8e2-7e6d5089b6f8"
      },
      "source": [
        "#data investigation for test\n",
        "data_investigation(dftest_raw)"
      ],
      "execution_count": 10,
      "outputs": [
        {
          "output_type": "stream",
          "text": [
            "Number of Persons:  179\n",
            "Number of Variables:  12\n",
            "--------------------\n",
            "Dataset Columns: \n",
            "\n",
            "Index(['PassengerId', 'Survived', 'Pclass', 'Name', 'Sex', 'Age', 'SibSp',\n",
            "       'Parch', 'Ticket', 'Fare', 'Cabin', 'Embarked'],\n",
            "      dtype='object')\n",
            "--------------------\n",
            "Datatype of eack column: \n",
            "\n",
            "PassengerId      int64\n",
            "Survived         int64\n",
            "Pclass           int64\n",
            "Name            object\n",
            "Sex             object\n",
            "Age            float64\n",
            "SibSp            int64\n",
            "Parch            int64\n",
            "Ticket          object\n",
            "Fare           float64\n",
            "Cabin           object\n",
            "Embarked        object\n",
            "dtype: object\n",
            "--------------------\n",
            "Missing rows in each columns: \n",
            "\n",
            "Age       31\n",
            "Cabin    143\n",
            "dtype: int64\n",
            "--------------------\n",
            "Missing Value %age vise: \n",
            "\n",
            "PassengerId     0.000000\n",
            "Survived        0.000000\n",
            "Pclass          0.000000\n",
            "Name            0.000000\n",
            "Sex             0.000000\n",
            "Age            17.318436\n",
            "SibSp           0.000000\n",
            "Parch           0.000000\n",
            "Ticket          0.000000\n",
            "Fare            0.000000\n",
            "Cabin          79.888268\n",
            "Embarked        0.000000\n",
            "dtype: float64\n",
            "--------------------\n",
            "Pictorial Representation of missing Values: \n"
          ],
          "name": "stdout"
        },
        {
          "output_type": "display_data",
          "data": {
            "image/png": "[encoded data removed]",
            "text/plain": [
              "<Figure size 576x432 with 1 Axes>"
            ]
          },
          "metadata": {
            "tags": [],
            "needs_background": "light"
          }
        }
      ]
    },
    {
      "cell_type": "markdown",
      "metadata": {
        "id": "E5lddEr0BvkO"
      },
      "source": [
        "## Missing Value treatment"
      ]
    },
    {
      "cell_type": "markdown",
      "metadata": {
        "id": "1IhBmxzKBYNS"
      },
      "source": [
        "*Since we have 76% & 79% values missing in the Cabin column in test & train respectively, dropping those.*"
      ]
    },
    {
      "cell_type": "code",
      "metadata": {
        "id": "cMiCaO3BBMQI"
      },
      "source": [
        "dftrain_raw.drop('Cabin', axis = 1, inplace=True)\n",
        "dftest_raw.drop('Cabin', axis =1, inplace=True)"
      ],
      "execution_count": 11,
      "outputs": []
    },
    {
      "cell_type": "code",
      "metadata": {
        "id": "zXIWw1SnBtCZ"
      },
      "source": [
        "# To handle the missing values for age, I plan to extract the title & use the same to impute the missing values.\n",
        "\n",
        "#combine the df\n",
        "train_test_df = [dftrain_raw, dftest_raw]"
      ],
      "execution_count": 12,
      "outputs": []
    },
    {
      "cell_type": "code",
      "metadata": {
        "id": "R9MVObbBCaVC"
      },
      "source": [
        "#using a loop so that the extraction runs twice\n",
        "for data in train_test_df:\n",
        "  data['Tittle'] = data['Name'].str.extract(' ([A-Za-z]+)\\.', expand = False)"
      ],
      "execution_count": 13,
      "outputs": []
    },
    {
      "cell_type": "code",
      "metadata": {
        "id": "CUQ63Ao8DaWY",
        "colab": {
          "base_uri": "https://localhost:8080/",
          "height": 202
        },
        "outputId": "1ccc4834-d5bd-402f-96c1-0e8523724623"
      },
      "source": [
        "dftest_raw.head()"
      ],
      "execution_count": 14,
      "outputs": [
        {
          "output_type": "execute_result",
          "data": {
            "text/html": [
              "<div>\n",
              "<style scoped>\n",
              "    .dataframe tbody tr th:only-of-type {\n",
              "        vertical-align: middle;\n",
              "    }\n",
              "\n",
              "    .dataframe tbody tr th {\n",
              "        vertical-align: top;\n",
              "    }\n",
              "\n",
              "    .dataframe thead th {\n",
              "        text-align: right;\n",
              "    }\n",
              "</style>\n",
              "<table border=\"1\" class=\"dataframe\">\n",
              "  <thead>\n",
              "    <tr style=\"text-align: right;\">\n",
              "      <th></th>\n",
              "      <th>PassengerId</th>\n",
              "      <th>Survived</th>\n",
              "      <th>Pclass</th>\n",
              "      <th>Name</th>\n",
              "      <th>Sex</th>\n",
              "      <th>Age</th>\n",
              "      <th>SibSp</th>\n",
              "      <th>Parch</th>\n",
              "      <th>Ticket</th>\n",
              "      <th>Fare</th>\n",
              "      <th>Embarked</th>\n",
              "      <th>Tittle</th>\n",
              "    </tr>\n",
              "  </thead>\n",
              "  <tbody>\n",
              "    <tr>\n",
              "      <th>0</th>\n",
              "      <td>181</td>\n",
              "      <td>0</td>\n",
              "      <td>3</td>\n",
              "      <td>Sage, Miss. Constance Gladys</td>\n",
              "      <td>female</td>\n",
              "      <td>NaN</td>\n",
              "      <td>8</td>\n",
              "      <td>2</td>\n",
              "      <td>CA. 2343</td>\n",
              "      <td>69.5500</td>\n",
              "      <td>S</td>\n",
              "      <td>Miss</td>\n",
              "    </tr>\n",
              "    <tr>\n",
              "      <th>1</th>\n",
              "      <td>405</td>\n",
              "      <td>0</td>\n",
              "      <td>3</td>\n",
              "      <td>Oreskovic, Miss. Marija</td>\n",
              "      <td>female</td>\n",
              "      <td>20.00</td>\n",
              "      <td>0</td>\n",
              "      <td>0</td>\n",
              "      <td>315096</td>\n",
              "      <td>8.6625</td>\n",
              "      <td>S</td>\n",
              "      <td>Miss</td>\n",
              "    </tr>\n",
              "    <tr>\n",
              "      <th>2</th>\n",
              "      <td>635</td>\n",
              "      <td>0</td>\n",
              "      <td>3</td>\n",
              "      <td>Skoog, Miss. Mabel</td>\n",
              "      <td>female</td>\n",
              "      <td>9.00</td>\n",
              "      <td>3</td>\n",
              "      <td>2</td>\n",
              "      <td>347088</td>\n",
              "      <td>27.9000</td>\n",
              "      <td>S</td>\n",
              "      <td>Miss</td>\n",
              "    </tr>\n",
              "    <tr>\n",
              "      <th>3</th>\n",
              "      <td>701</td>\n",
              "      <td>1</td>\n",
              "      <td>1</td>\n",
              "      <td>Astor, Mrs. John Jacob (Madeleine Talmadge Force)</td>\n",
              "      <td>female</td>\n",
              "      <td>18.00</td>\n",
              "      <td>1</td>\n",
              "      <td>0</td>\n",
              "      <td>PC 17757</td>\n",
              "      <td>227.5250</td>\n",
              "      <td>C</td>\n",
              "      <td>Mrs</td>\n",
              "    </tr>\n",
              "    <tr>\n",
              "      <th>4</th>\n",
              "      <td>470</td>\n",
              "      <td>1</td>\n",
              "      <td>3</td>\n",
              "      <td>Baclini, Miss. Helene Barbara</td>\n",
              "      <td>female</td>\n",
              "      <td>0.75</td>\n",
              "      <td>2</td>\n",
              "      <td>1</td>\n",
              "      <td>2666</td>\n",
              "      <td>19.2583</td>\n",
              "      <td>C</td>\n",
              "      <td>Miss</td>\n",
              "    </tr>\n",
              "  </tbody>\n",
              "</table>\n",
              "</div>"
            ],
            "text/plain": [
              "   PassengerId  Survived  Pclass  ...      Fare Embarked  Tittle\n",
              "0          181         0       3  ...   69.5500        S    Miss\n",
              "1          405         0       3  ...    8.6625        S    Miss\n",
              "2          635         0       3  ...   27.9000        S    Miss\n",
              "3          701         1       1  ...  227.5250        C     Mrs\n",
              "4          470         1       3  ...   19.2583        C    Miss\n",
              "\n",
              "[5 rows x 12 columns]"
            ]
          },
          "metadata": {
            "tags": []
          },
          "execution_count": 14
        }
      ]
    },
    {
      "cell_type": "code",
      "metadata": {
        "id": "kxeqHKTgDm0y",
        "colab": {
          "base_uri": "https://localhost:8080/",
          "height": 202
        },
        "outputId": "6ab1dee4-9efa-421f-f012-2d941f717b79"
      },
      "source": [
        "dftrain_raw.head()"
      ],
      "execution_count": 15,
      "outputs": [
        {
          "output_type": "execute_result",
          "data": {
            "text/html": [
              "<div>\n",
              "<style scoped>\n",
              "    .dataframe tbody tr th:only-of-type {\n",
              "        vertical-align: middle;\n",
              "    }\n",
              "\n",
              "    .dataframe tbody tr th {\n",
              "        vertical-align: top;\n",
              "    }\n",
              "\n",
              "    .dataframe thead th {\n",
              "        text-align: right;\n",
              "    }\n",
              "</style>\n",
              "<table border=\"1\" class=\"dataframe\">\n",
              "  <thead>\n",
              "    <tr style=\"text-align: right;\">\n",
              "      <th></th>\n",
              "      <th>PassengerId</th>\n",
              "      <th>Survived</th>\n",
              "      <th>Pclass</th>\n",
              "      <th>Name</th>\n",
              "      <th>Sex</th>\n",
              "      <th>Age</th>\n",
              "      <th>SibSp</th>\n",
              "      <th>Parch</th>\n",
              "      <th>Ticket</th>\n",
              "      <th>Fare</th>\n",
              "      <th>Embarked</th>\n",
              "      <th>Tittle</th>\n",
              "    </tr>\n",
              "  </thead>\n",
              "  <tbody>\n",
              "    <tr>\n",
              "      <th>0</th>\n",
              "      <td>493</td>\n",
              "      <td>0</td>\n",
              "      <td>1</td>\n",
              "      <td>Molson, Mr. Harry Markland</td>\n",
              "      <td>male</td>\n",
              "      <td>55.0</td>\n",
              "      <td>0</td>\n",
              "      <td>0</td>\n",
              "      <td>113787</td>\n",
              "      <td>30.5000</td>\n",
              "      <td>S</td>\n",
              "      <td>Mr</td>\n",
              "    </tr>\n",
              "    <tr>\n",
              "      <th>1</th>\n",
              "      <td>53</td>\n",
              "      <td>1</td>\n",
              "      <td>1</td>\n",
              "      <td>Harper, Mrs. Henry Sleeper (Myna Haxtun)</td>\n",
              "      <td>female</td>\n",
              "      <td>49.0</td>\n",
              "      <td>1</td>\n",
              "      <td>0</td>\n",
              "      <td>PC 17572</td>\n",
              "      <td>76.7292</td>\n",
              "      <td>C</td>\n",
              "      <td>Mrs</td>\n",
              "    </tr>\n",
              "    <tr>\n",
              "      <th>2</th>\n",
              "      <td>388</td>\n",
              "      <td>1</td>\n",
              "      <td>2</td>\n",
              "      <td>Buss, Miss. Kate</td>\n",
              "      <td>female</td>\n",
              "      <td>36.0</td>\n",
              "      <td>0</td>\n",
              "      <td>0</td>\n",
              "      <td>27849</td>\n",
              "      <td>13.0000</td>\n",
              "      <td>S</td>\n",
              "      <td>Miss</td>\n",
              "    </tr>\n",
              "    <tr>\n",
              "      <th>3</th>\n",
              "      <td>192</td>\n",
              "      <td>0</td>\n",
              "      <td>2</td>\n",
              "      <td>Carbines, Mr. William</td>\n",
              "      <td>male</td>\n",
              "      <td>19.0</td>\n",
              "      <td>0</td>\n",
              "      <td>0</td>\n",
              "      <td>28424</td>\n",
              "      <td>13.0000</td>\n",
              "      <td>S</td>\n",
              "      <td>Mr</td>\n",
              "    </tr>\n",
              "    <tr>\n",
              "      <th>4</th>\n",
              "      <td>687</td>\n",
              "      <td>0</td>\n",
              "      <td>3</td>\n",
              "      <td>Panula, Mr. Jaako Arnold</td>\n",
              "      <td>male</td>\n",
              "      <td>14.0</td>\n",
              "      <td>4</td>\n",
              "      <td>1</td>\n",
              "      <td>3101295</td>\n",
              "      <td>39.6875</td>\n",
              "      <td>S</td>\n",
              "      <td>Mr</td>\n",
              "    </tr>\n",
              "  </tbody>\n",
              "</table>\n",
              "</div>"
            ],
            "text/plain": [
              "   PassengerId  Survived  Pclass  ...     Fare Embarked  Tittle\n",
              "0          493         0       1  ...  30.5000        S      Mr\n",
              "1           53         1       1  ...  76.7292        C     Mrs\n",
              "2          388         1       2  ...  13.0000        S    Miss\n",
              "3          192         0       2  ...  13.0000        S      Mr\n",
              "4          687         0       3  ...  39.6875        S      Mr\n",
              "\n",
              "[5 rows x 12 columns]"
            ]
          },
          "metadata": {
            "tags": []
          },
          "execution_count": 15
        }
      ]
    },
    {
      "cell_type": "code",
      "metadata": {
        "id": "8go4PaGmGlow",
        "colab": {
          "base_uri": "https://localhost:8080/"
        },
        "outputId": "629cc7a0-824d-47a8-99d2-9f8eeb6e6b68"
      },
      "source": [
        "dftrain_raw.groupby('Tittle')['Age'].mean()"
      ],
      "execution_count": 16,
      "outputs": [
        {
          "output_type": "execute_result",
          "data": {
            "text/plain": [
              "Tittle\n",
              "Capt        70.000000\n",
              "Col         60.000000\n",
              "Countess    33.000000\n",
              "Dr          42.000000\n",
              "Jonkheer    38.000000\n",
              "Lady        48.000000\n",
              "Major       48.500000\n",
              "Master       4.071111\n",
              "Miss        22.141304\n",
              "Mlle        24.000000\n",
              "Mme         24.000000\n",
              "Mr          32.392628\n",
              "Mrs         35.337079\n",
              "Ms          28.000000\n",
              "Rev         40.400000\n",
              "Sir         49.000000\n",
              "Name: Age, dtype: float64"
            ]
          },
          "metadata": {
            "tags": []
          },
          "execution_count": 16
        }
      ]
    },
    {
      "cell_type": "code",
      "metadata": {
        "id": "Ur9LQzqAGt17"
      },
      "source": [
        "#filling the missing values by median age for each tittle(Mr, Miss, etc)\n",
        "dftrain_raw['Age'].fillna(dftrain_raw.groupby('Tittle')['Age'].transform('mean'), inplace=True)\n",
        "dftest_raw['Age'].fillna(dftest_raw.groupby('Tittle')['Age'].transform('median'), inplace=True)"
      ],
      "execution_count": 17,
      "outputs": []
    },
    {
      "cell_type": "code",
      "metadata": {
        "id": "xqY7IlD3G66c",
        "colab": {
          "base_uri": "https://localhost:8080/",
          "height": 1000
        },
        "outputId": "7106d30b-17f6-417f-8d2c-7a506aea55cd"
      },
      "source": [
        "#checking the train data\n",
        "data_investigation(dftrain_raw)"
      ],
      "execution_count": 18,
      "outputs": [
        {
          "output_type": "stream",
          "text": [
            "Number of Persons:  712\n",
            "Number of Variables:  12\n",
            "--------------------\n",
            "Dataset Columns: \n",
            "\n",
            "Index(['PassengerId', 'Survived', 'Pclass', 'Name', 'Sex', 'Age', 'SibSp',\n",
            "       'Parch', 'Ticket', 'Fare', 'Embarked', 'Tittle'],\n",
            "      dtype='object')\n",
            "--------------------\n",
            "Datatype of eack column: \n",
            "\n",
            "PassengerId      int64\n",
            "Survived         int64\n",
            "Pclass           int64\n",
            "Name            object\n",
            "Sex             object\n",
            "Age            float64\n",
            "SibSp            int64\n",
            "Parch            int64\n",
            "Ticket          object\n",
            "Fare           float64\n",
            "Embarked        object\n",
            "Tittle          object\n",
            "dtype: object\n",
            "--------------------\n",
            "Missing rows in each columns: \n",
            "\n",
            "Embarked    2\n",
            "dtype: int64\n",
            "--------------------\n",
            "Missing Value %age vise: \n",
            "\n",
            "PassengerId    0.000000\n",
            "Survived       0.000000\n",
            "Pclass         0.000000\n",
            "Name           0.000000\n",
            "Sex            0.000000\n",
            "Age            0.000000\n",
            "SibSp          0.000000\n",
            "Parch          0.000000\n",
            "Ticket         0.000000\n",
            "Fare           0.000000\n",
            "Embarked       0.280899\n",
            "Tittle         0.000000\n",
            "dtype: float64\n",
            "--------------------\n",
            "Pictorial Representation of missing Values: \n"
          ],
          "name": "stdout"
        },
        {
          "output_type": "display_data",
          "data": {
            "image/png": "[encoded data removed]",
            "text/plain": [
              "<Figure size 576x432 with 1 Axes>"
            ]
          },
          "metadata": {
            "tags": [],
            "needs_background": "light"
          }
        }
      ]
    },
    {
      "cell_type": "code",
      "metadata": {
        "id": "vgu6UYqbHbQt",
        "colab": {
          "base_uri": "https://localhost:8080/",
          "height": 1000
        },
        "outputId": "0a9c2cbc-4f30-49d0-daf7-425b8464fb66"
      },
      "source": [
        "data_investigation(dftest_raw)"
      ],
      "execution_count": 19,
      "outputs": [
        {
          "output_type": "stream",
          "text": [
            "Number of Persons:  179\n",
            "Number of Variables:  12\n",
            "--------------------\n",
            "Dataset Columns: \n",
            "\n",
            "Index(['PassengerId', 'Survived', 'Pclass', 'Name', 'Sex', 'Age', 'SibSp',\n",
            "       'Parch', 'Ticket', 'Fare', 'Embarked', 'Tittle'],\n",
            "      dtype='object')\n",
            "--------------------\n",
            "Datatype of eack column: \n",
            "\n",
            "PassengerId      int64\n",
            "Survived         int64\n",
            "Pclass           int64\n",
            "Name            object\n",
            "Sex             object\n",
            "Age            float64\n",
            "SibSp            int64\n",
            "Parch            int64\n",
            "Ticket          object\n",
            "Fare           float64\n",
            "Embarked        object\n",
            "Tittle          object\n",
            "dtype: object\n",
            "--------------------\n",
            "Missing rows in each columns: \n",
            "\n",
            "Age    1\n",
            "dtype: int64\n",
            "--------------------\n",
            "Missing Value %age vise: \n",
            "\n",
            "PassengerId    0.000000\n",
            "Survived       0.000000\n",
            "Pclass         0.000000\n",
            "Name           0.000000\n",
            "Sex            0.000000\n",
            "Age            0.558659\n",
            "SibSp          0.000000\n",
            "Parch          0.000000\n",
            "Ticket         0.000000\n",
            "Fare           0.000000\n",
            "Embarked       0.000000\n",
            "Tittle         0.000000\n",
            "dtype: float64\n",
            "--------------------\n",
            "Pictorial Representation of missing Values: \n"
          ],
          "name": "stdout"
        },
        {
          "output_type": "display_data",
          "data": {
            "image/png": "[encoded data removed]",
            "text/plain": [
              "<Figure size 576x432 with 1 Axes>"
            ]
          },
          "metadata": {
            "tags": [],
            "needs_background": "light"
          }
        }
      ]
    },
    {
      "cell_type": "code",
      "metadata": {
        "id": "wPlMmmz4ISL5",
        "colab": {
          "base_uri": "https://localhost:8080/",
          "height": 1000
        },
        "outputId": "6ea13059-59b9-4b28-ae38-9b1a01880e63"
      },
      "source": [
        "#dropping the missing value in train data\n",
        "dftrain_raw.dropna(inplace=True)\n",
        "data_investigation(dftrain_raw)"
      ],
      "execution_count": 20,
      "outputs": [
        {
          "output_type": "stream",
          "text": [
            "Number of Persons:  710\n",
            "Number of Variables:  12\n",
            "--------------------\n",
            "Dataset Columns: \n",
            "\n",
            "Index(['PassengerId', 'Survived', 'Pclass', 'Name', 'Sex', 'Age', 'SibSp',\n",
            "       'Parch', 'Ticket', 'Fare', 'Embarked', 'Tittle'],\n",
            "      dtype='object')\n",
            "--------------------\n",
            "Datatype of eack column: \n",
            "\n",
            "PassengerId      int64\n",
            "Survived         int64\n",
            "Pclass           int64\n",
            "Name            object\n",
            "Sex             object\n",
            "Age            float64\n",
            "SibSp            int64\n",
            "Parch            int64\n",
            "Ticket          object\n",
            "Fare           float64\n",
            "Embarked        object\n",
            "Tittle          object\n",
            "dtype: object\n",
            "--------------------\n",
            "Missing rows in each columns: \n",
            "\n",
            "Series([], dtype: int64)\n",
            "--------------------\n",
            "Missing Value %age vise: \n",
            "\n",
            "PassengerId    0.0\n",
            "Survived       0.0\n",
            "Pclass         0.0\n",
            "Name           0.0\n",
            "Sex            0.0\n",
            "Age            0.0\n",
            "SibSp          0.0\n",
            "Parch          0.0\n",
            "Ticket         0.0\n",
            "Fare           0.0\n",
            "Embarked       0.0\n",
            "Tittle         0.0\n",
            "dtype: float64\n",
            "--------------------\n",
            "Pictorial Representation of missing Values: \n"
          ],
          "name": "stdout"
        },
        {
          "output_type": "display_data",
          "data": {
            "image/png": "[encoded data removed]",
            "text/plain": [
              "<Figure size 576x432 with 1 Axes>"
            ]
          },
          "metadata": {
            "tags": [],
            "needs_background": "light"
          }
        }
      ]
    },
    {
      "cell_type": "code",
      "metadata": {
        "id": "cPGUK0QoJjxy",
        "colab": {
          "base_uri": "https://localhost:8080/",
          "height": 1000
        },
        "outputId": "b8f756bd-e114-4a5b-95c8-30d72215230f"
      },
      "source": [
        "#It seems some age data is empty in the test data so imputing those.\n",
        "dftest_raw.fillna(dftest_raw.mean(), inplace=True)\n",
        "data_investigation(dftest_raw)"
      ],
      "execution_count": 21,
      "outputs": [
        {
          "output_type": "stream",
          "text": [
            "Number of Persons:  179\n",
            "Number of Variables:  12\n",
            "--------------------\n",
            "Dataset Columns: \n",
            "\n",
            "Index(['PassengerId', 'Survived', 'Pclass', 'Name', 'Sex', 'Age', 'SibSp',\n",
            "       'Parch', 'Ticket', 'Fare', 'Embarked', 'Tittle'],\n",
            "      dtype='object')\n",
            "--------------------\n",
            "Datatype of eack column: \n",
            "\n",
            "PassengerId      int64\n",
            "Survived         int64\n",
            "Pclass           int64\n",
            "Name            object\n",
            "Sex             object\n",
            "Age            float64\n",
            "SibSp            int64\n",
            "Parch            int64\n",
            "Ticket          object\n",
            "Fare           float64\n",
            "Embarked        object\n",
            "Tittle          object\n",
            "dtype: object\n",
            "--------------------\n",
            "Missing rows in each columns: \n",
            "\n",
            "Series([], dtype: int64)\n",
            "--------------------\n",
            "Missing Value %age vise: \n",
            "\n",
            "PassengerId    0.0\n",
            "Survived       0.0\n",
            "Pclass         0.0\n",
            "Name           0.0\n",
            "Sex            0.0\n",
            "Age            0.0\n",
            "SibSp          0.0\n",
            "Parch          0.0\n",
            "Ticket         0.0\n",
            "Fare           0.0\n",
            "Embarked       0.0\n",
            "Tittle         0.0\n",
            "dtype: float64\n",
            "--------------------\n",
            "Pictorial Representation of missing Values: \n"
          ],
          "name": "stdout"
        },
        {
          "output_type": "display_data",
          "data": {
            "image/png": "[encoded data removed]",
            "text/plain": [
              "<Figure size 576x432 with 1 Axes>"
            ]
          },
          "metadata": {
            "tags": [],
            "needs_background": "light"
          }
        }
      ]
    },
    {
      "cell_type": "markdown",
      "metadata": {
        "id": "aRI1VeqsKEos"
      },
      "source": [
        "*Now, the data is clean, we would move to preprocessing of the data*"
      ]
    },
    {
      "cell_type": "markdown",
      "metadata": {
        "id": "lJoq3stwKMuS"
      },
      "source": [
        "## Data Preprocessing"
      ]
    },
    {
      "cell_type": "code",
      "metadata": {
        "id": "2dmH5HQXJ5GS",
        "colab": {
          "base_uri": "https://localhost:8080/",
          "height": 202
        },
        "outputId": "669a6dbd-6f39-4a28-dcef-ae77452023bc"
      },
      "source": [
        "dftrain_raw.head()"
      ],
      "execution_count": 22,
      "outputs": [
        {
          "output_type": "execute_result",
          "data": {
            "text/html": [
              "<div>\n",
              "<style scoped>\n",
              "    .dataframe tbody tr th:only-of-type {\n",
              "        vertical-align: middle;\n",
              "    }\n",
              "\n",
              "    .dataframe tbody tr th {\n",
              "        vertical-align: top;\n",
              "    }\n",
              "\n",
              "    .dataframe thead th {\n",
              "        text-align: right;\n",
              "    }\n",
              "</style>\n",
              "<table border=\"1\" class=\"dataframe\">\n",
              "  <thead>\n",
              "    <tr style=\"text-align: right;\">\n",
              "      <th></th>\n",
              "      <th>PassengerId</th>\n",
              "      <th>Survived</th>\n",
              "      <th>Pclass</th>\n",
              "      <th>Name</th>\n",
              "      <th>Sex</th>\n",
              "      <th>Age</th>\n",
              "      <th>SibSp</th>\n",
              "      <th>Parch</th>\n",
              "      <th>Ticket</th>\n",
              "      <th>Fare</th>\n",
              "      <th>Embarked</th>\n",
              "      <th>Tittle</th>\n",
              "    </tr>\n",
              "  </thead>\n",
              "  <tbody>\n",
              "    <tr>\n",
              "      <th>0</th>\n",
              "      <td>493</td>\n",
              "      <td>0</td>\n",
              "      <td>1</td>\n",
              "      <td>Molson, Mr. Harry Markland</td>\n",
              "      <td>male</td>\n",
              "      <td>55.0</td>\n",
              "      <td>0</td>\n",
              "      <td>0</td>\n",
              "      <td>113787</td>\n",
              "      <td>30.5000</td>\n",
              "      <td>S</td>\n",
              "      <td>Mr</td>\n",
              "    </tr>\n",
              "    <tr>\n",
              "      <th>1</th>\n",
              "      <td>53</td>\n",
              "      <td>1</td>\n",
              "      <td>1</td>\n",
              "      <td>Harper, Mrs. Henry Sleeper (Myna Haxtun)</td>\n",
              "      <td>female</td>\n",
              "      <td>49.0</td>\n",
              "      <td>1</td>\n",
              "      <td>0</td>\n",
              "      <td>PC 17572</td>\n",
              "      <td>76.7292</td>\n",
              "      <td>C</td>\n",
              "      <td>Mrs</td>\n",
              "    </tr>\n",
              "    <tr>\n",
              "      <th>2</th>\n",
              "      <td>388</td>\n",
              "      <td>1</td>\n",
              "      <td>2</td>\n",
              "      <td>Buss, Miss. Kate</td>\n",
              "      <td>female</td>\n",
              "      <td>36.0</td>\n",
              "      <td>0</td>\n",
              "      <td>0</td>\n",
              "      <td>27849</td>\n",
              "      <td>13.0000</td>\n",
              "      <td>S</td>\n",
              "      <td>Miss</td>\n",
              "    </tr>\n",
              "    <tr>\n",
              "      <th>3</th>\n",
              "      <td>192</td>\n",
              "      <td>0</td>\n",
              "      <td>2</td>\n",
              "      <td>Carbines, Mr. William</td>\n",
              "      <td>male</td>\n",
              "      <td>19.0</td>\n",
              "      <td>0</td>\n",
              "      <td>0</td>\n",
              "      <td>28424</td>\n",
              "      <td>13.0000</td>\n",
              "      <td>S</td>\n",
              "      <td>Mr</td>\n",
              "    </tr>\n",
              "    <tr>\n",
              "      <th>4</th>\n",
              "      <td>687</td>\n",
              "      <td>0</td>\n",
              "      <td>3</td>\n",
              "      <td>Panula, Mr. Jaako Arnold</td>\n",
              "      <td>male</td>\n",
              "      <td>14.0</td>\n",
              "      <td>4</td>\n",
              "      <td>1</td>\n",
              "      <td>3101295</td>\n",
              "      <td>39.6875</td>\n",
              "      <td>S</td>\n",
              "      <td>Mr</td>\n",
              "    </tr>\n",
              "  </tbody>\n",
              "</table>\n",
              "</div>"
            ],
            "text/plain": [
              "   PassengerId  Survived  Pclass  ...     Fare Embarked  Tittle\n",
              "0          493         0       1  ...  30.5000        S      Mr\n",
              "1           53         1       1  ...  76.7292        C     Mrs\n",
              "2          388         1       2  ...  13.0000        S    Miss\n",
              "3          192         0       2  ...  13.0000        S      Mr\n",
              "4          687         0       3  ...  39.6875        S      Mr\n",
              "\n",
              "[5 rows x 12 columns]"
            ]
          },
          "metadata": {
            "tags": []
          },
          "execution_count": 22
        }
      ]
    },
    {
      "cell_type": "code",
      "metadata": {
        "id": "FZq0XW8hLZDT",
        "outputId": "38eb67b2-42b0-42a8-819c-063778278d78",
        "colab": {
          "base_uri": "https://localhost:8080/",
          "height": 202
        }
      },
      "source": [
        "dftest_raw.head()"
      ],
      "execution_count": 23,
      "outputs": [
        {
          "output_type": "execute_result",
          "data": {
            "text/html": [
              "<div>\n",
              "<style scoped>\n",
              "    .dataframe tbody tr th:only-of-type {\n",
              "        vertical-align: middle;\n",
              "    }\n",
              "\n",
              "    .dataframe tbody tr th {\n",
              "        vertical-align: top;\n",
              "    }\n",
              "\n",
              "    .dataframe thead th {\n",
              "        text-align: right;\n",
              "    }\n",
              "</style>\n",
              "<table border=\"1\" class=\"dataframe\">\n",
              "  <thead>\n",
              "    <tr style=\"text-align: right;\">\n",
              "      <th></th>\n",
              "      <th>PassengerId</th>\n",
              "      <th>Survived</th>\n",
              "      <th>Pclass</th>\n",
              "      <th>Name</th>\n",
              "      <th>Sex</th>\n",
              "      <th>Age</th>\n",
              "      <th>SibSp</th>\n",
              "      <th>Parch</th>\n",
              "      <th>Ticket</th>\n",
              "      <th>Fare</th>\n",
              "      <th>Embarked</th>\n",
              "      <th>Tittle</th>\n",
              "    </tr>\n",
              "  </thead>\n",
              "  <tbody>\n",
              "    <tr>\n",
              "      <th>0</th>\n",
              "      <td>181</td>\n",
              "      <td>0</td>\n",
              "      <td>3</td>\n",
              "      <td>Sage, Miss. Constance Gladys</td>\n",
              "      <td>female</td>\n",
              "      <td>18.00</td>\n",
              "      <td>8</td>\n",
              "      <td>2</td>\n",
              "      <td>CA. 2343</td>\n",
              "      <td>69.5500</td>\n",
              "      <td>S</td>\n",
              "      <td>Miss</td>\n",
              "    </tr>\n",
              "    <tr>\n",
              "      <th>1</th>\n",
              "      <td>405</td>\n",
              "      <td>0</td>\n",
              "      <td>3</td>\n",
              "      <td>Oreskovic, Miss. Marija</td>\n",
              "      <td>female</td>\n",
              "      <td>20.00</td>\n",
              "      <td>0</td>\n",
              "      <td>0</td>\n",
              "      <td>315096</td>\n",
              "      <td>8.6625</td>\n",
              "      <td>S</td>\n",
              "      <td>Miss</td>\n",
              "    </tr>\n",
              "    <tr>\n",
              "      <th>2</th>\n",
              "      <td>635</td>\n",
              "      <td>0</td>\n",
              "      <td>3</td>\n",
              "      <td>Skoog, Miss. Mabel</td>\n",
              "      <td>female</td>\n",
              "      <td>9.00</td>\n",
              "      <td>3</td>\n",
              "      <td>2</td>\n",
              "      <td>347088</td>\n",
              "      <td>27.9000</td>\n",
              "      <td>S</td>\n",
              "      <td>Miss</td>\n",
              "    </tr>\n",
              "    <tr>\n",
              "      <th>3</th>\n",
              "      <td>701</td>\n",
              "      <td>1</td>\n",
              "      <td>1</td>\n",
              "      <td>Astor, Mrs. John Jacob (Madeleine Talmadge Force)</td>\n",
              "      <td>female</td>\n",
              "      <td>18.00</td>\n",
              "      <td>1</td>\n",
              "      <td>0</td>\n",
              "      <td>PC 17757</td>\n",
              "      <td>227.5250</td>\n",
              "      <td>C</td>\n",
              "      <td>Mrs</td>\n",
              "    </tr>\n",
              "    <tr>\n",
              "      <th>4</th>\n",
              "      <td>470</td>\n",
              "      <td>1</td>\n",
              "      <td>3</td>\n",
              "      <td>Baclini, Miss. Helene Barbara</td>\n",
              "      <td>female</td>\n",
              "      <td>0.75</td>\n",
              "      <td>2</td>\n",
              "      <td>1</td>\n",
              "      <td>2666</td>\n",
              "      <td>19.2583</td>\n",
              "      <td>C</td>\n",
              "      <td>Miss</td>\n",
              "    </tr>\n",
              "  </tbody>\n",
              "</table>\n",
              "</div>"
            ],
            "text/plain": [
              "   PassengerId  Survived  Pclass  ...      Fare Embarked  Tittle\n",
              "0          181         0       3  ...   69.5500        S    Miss\n",
              "1          405         0       3  ...    8.6625        S    Miss\n",
              "2          635         0       3  ...   27.9000        S    Miss\n",
              "3          701         1       1  ...  227.5250        C     Mrs\n",
              "4          470         1       3  ...   19.2583        C    Miss\n",
              "\n",
              "[5 rows x 12 columns]"
            ]
          },
          "metadata": {
            "tags": []
          },
          "execution_count": 23
        }
      ]
    },
    {
      "cell_type": "code",
      "metadata": {
        "id": "4HK4IyJEZFpZ"
      },
      "source": [
        "#dropping name & ticket & tittle as they are not required for modelling\n",
        "dftrain_raw.drop(['Name', 'Ticket', 'Tittle'], axis= 1, inplace=True)\n",
        "dftest_raw.drop(['Name', 'Ticket', 'Tittle'], axis= 1, inplace=True)"
      ],
      "execution_count": 27,
      "outputs": []
    },
    {
      "cell_type": "code",
      "metadata": {
        "id": "N73bVGKFZWNL",
        "outputId": "1e3b895d-6162-449e-e710-b9b72de9e457",
        "colab": {
          "base_uri": "https://localhost:8080/",
          "height": 202
        }
      },
      "source": [
        "dftrain_raw.head()"
      ],
      "execution_count": 28,
      "outputs": [
        {
          "output_type": "execute_result",
          "data": {
            "text/html": [
              "<div>\n",
              "<style scoped>\n",
              "    .dataframe tbody tr th:only-of-type {\n",
              "        vertical-align: middle;\n",
              "    }\n",
              "\n",
              "    .dataframe tbody tr th {\n",
              "        vertical-align: top;\n",
              "    }\n",
              "\n",
              "    .dataframe thead th {\n",
              "        text-align: right;\n",
              "    }\n",
              "</style>\n",
              "<table border=\"1\" class=\"dataframe\">\n",
              "  <thead>\n",
              "    <tr style=\"text-align: right;\">\n",
              "      <th></th>\n",
              "      <th>PassengerId</th>\n",
              "      <th>Survived</th>\n",
              "      <th>Pclass</th>\n",
              "      <th>Sex</th>\n",
              "      <th>Age</th>\n",
              "      <th>SibSp</th>\n",
              "      <th>Parch</th>\n",
              "      <th>Fare</th>\n",
              "      <th>Embarked</th>\n",
              "    </tr>\n",
              "  </thead>\n",
              "  <tbody>\n",
              "    <tr>\n",
              "      <th>0</th>\n",
              "      <td>493</td>\n",
              "      <td>0</td>\n",
              "      <td>1</td>\n",
              "      <td>male</td>\n",
              "      <td>55.0</td>\n",
              "      <td>0</td>\n",
              "      <td>0</td>\n",
              "      <td>30.5000</td>\n",
              "      <td>S</td>\n",
              "    </tr>\n",
              "    <tr>\n",
              "      <th>1</th>\n",
              "      <td>53</td>\n",
              "      <td>1</td>\n",
              "      <td>1</td>\n",
              "      <td>female</td>\n",
              "      <td>49.0</td>\n",
              "      <td>1</td>\n",
              "      <td>0</td>\n",
              "      <td>76.7292</td>\n",
              "      <td>C</td>\n",
              "    </tr>\n",
              "    <tr>\n",
              "      <th>2</th>\n",
              "      <td>388</td>\n",
              "      <td>1</td>\n",
              "      <td>2</td>\n",
              "      <td>female</td>\n",
              "      <td>36.0</td>\n",
              "      <td>0</td>\n",
              "      <td>0</td>\n",
              "      <td>13.0000</td>\n",
              "      <td>S</td>\n",
              "    </tr>\n",
              "    <tr>\n",
              "      <th>3</th>\n",
              "      <td>192</td>\n",
              "      <td>0</td>\n",
              "      <td>2</td>\n",
              "      <td>male</td>\n",
              "      <td>19.0</td>\n",
              "      <td>0</td>\n",
              "      <td>0</td>\n",
              "      <td>13.0000</td>\n",
              "      <td>S</td>\n",
              "    </tr>\n",
              "    <tr>\n",
              "      <th>4</th>\n",
              "      <td>687</td>\n",
              "      <td>0</td>\n",
              "      <td>3</td>\n",
              "      <td>male</td>\n",
              "      <td>14.0</td>\n",
              "      <td>4</td>\n",
              "      <td>1</td>\n",
              "      <td>39.6875</td>\n",
              "      <td>S</td>\n",
              "    </tr>\n",
              "  </tbody>\n",
              "</table>\n",
              "</div>"
            ],
            "text/plain": [
              "   PassengerId  Survived  Pclass     Sex   Age  SibSp  Parch     Fare Embarked\n",
              "0          493         0       1    male  55.0      0      0  30.5000        S\n",
              "1           53         1       1  female  49.0      1      0  76.7292        C\n",
              "2          388         1       2  female  36.0      0      0  13.0000        S\n",
              "3          192         0       2    male  19.0      0      0  13.0000        S\n",
              "4          687         0       3    male  14.0      4      1  39.6875        S"
            ]
          },
          "metadata": {
            "tags": []
          },
          "execution_count": 28
        }
      ]
    },
    {
      "cell_type": "code",
      "metadata": {
        "id": "Buc5ncpQZ5jf",
        "outputId": "0339e9f1-69fb-48dc-c7f8-5d485620ce09",
        "colab": {
          "base_uri": "https://localhost:8080/",
          "height": 202
        }
      },
      "source": [
        "dftest_raw.head()"
      ],
      "execution_count": 29,
      "outputs": [
        {
          "output_type": "execute_result",
          "data": {
            "text/html": [
              "<div>\n",
              "<style scoped>\n",
              "    .dataframe tbody tr th:only-of-type {\n",
              "        vertical-align: middle;\n",
              "    }\n",
              "\n",
              "    .dataframe tbody tr th {\n",
              "        vertical-align: top;\n",
              "    }\n",
              "\n",
              "    .dataframe thead th {\n",
              "        text-align: right;\n",
              "    }\n",
              "</style>\n",
              "<table border=\"1\" class=\"dataframe\">\n",
              "  <thead>\n",
              "    <tr style=\"text-align: right;\">\n",
              "      <th></th>\n",
              "      <th>PassengerId</th>\n",
              "      <th>Survived</th>\n",
              "      <th>Pclass</th>\n",
              "      <th>Sex</th>\n",
              "      <th>Age</th>\n",
              "      <th>SibSp</th>\n",
              "      <th>Parch</th>\n",
              "      <th>Fare</th>\n",
              "      <th>Embarked</th>\n",
              "    </tr>\n",
              "  </thead>\n",
              "  <tbody>\n",
              "    <tr>\n",
              "      <th>0</th>\n",
              "      <td>181</td>\n",
              "      <td>0</td>\n",
              "      <td>3</td>\n",
              "      <td>female</td>\n",
              "      <td>18.00</td>\n",
              "      <td>8</td>\n",
              "      <td>2</td>\n",
              "      <td>69.5500</td>\n",
              "      <td>S</td>\n",
              "    </tr>\n",
              "    <tr>\n",
              "      <th>1</th>\n",
              "      <td>405</td>\n",
              "      <td>0</td>\n",
              "      <td>3</td>\n",
              "      <td>female</td>\n",
              "      <td>20.00</td>\n",
              "      <td>0</td>\n",
              "      <td>0</td>\n",
              "      <td>8.6625</td>\n",
              "      <td>S</td>\n",
              "    </tr>\n",
              "    <tr>\n",
              "      <th>2</th>\n",
              "      <td>635</td>\n",
              "      <td>0</td>\n",
              "      <td>3</td>\n",
              "      <td>female</td>\n",
              "      <td>9.00</td>\n",
              "      <td>3</td>\n",
              "      <td>2</td>\n",
              "      <td>27.9000</td>\n",
              "      <td>S</td>\n",
              "    </tr>\n",
              "    <tr>\n",
              "      <th>3</th>\n",
              "      <td>701</td>\n",
              "      <td>1</td>\n",
              "      <td>1</td>\n",
              "      <td>female</td>\n",
              "      <td>18.00</td>\n",
              "      <td>1</td>\n",
              "      <td>0</td>\n",
              "      <td>227.5250</td>\n",
              "      <td>C</td>\n",
              "    </tr>\n",
              "    <tr>\n",
              "      <th>4</th>\n",
              "      <td>470</td>\n",
              "      <td>1</td>\n",
              "      <td>3</td>\n",
              "      <td>female</td>\n",
              "      <td>0.75</td>\n",
              "      <td>2</td>\n",
              "      <td>1</td>\n",
              "      <td>19.2583</td>\n",
              "      <td>C</td>\n",
              "    </tr>\n",
              "  </tbody>\n",
              "</table>\n",
              "</div>"
            ],
            "text/plain": [
              "   PassengerId  Survived  Pclass     Sex  ...  SibSp  Parch      Fare  Embarked\n",
              "0          181         0       3  female  ...      8      2   69.5500         S\n",
              "1          405         0       3  female  ...      0      0    8.6625         S\n",
              "2          635         0       3  female  ...      3      2   27.9000         S\n",
              "3          701         1       1  female  ...      1      0  227.5250         C\n",
              "4          470         1       3  female  ...      2      1   19.2583         C\n",
              "\n",
              "[5 rows x 9 columns]"
            ]
          },
          "metadata": {
            "tags": []
          },
          "execution_count": 29
        }
      ]
    },
    {
      "cell_type": "code",
      "metadata": {
        "id": "dJbhvWEqaDGV"
      },
      "source": [
        ""
      ],
      "execution_count": null,
      "outputs": []
    }
  ]
}